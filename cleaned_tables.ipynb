{
 "cells": [
  {
   "cell_type": "code",
   "execution_count": null,
   "metadata": {},
   "outputs": [],
   "source": []
  }
 ],
 "metadata": {
  "kernelspec": {
   "display_name": "base",
   "language": "python",
   "name": "python3"
  },
  "language_info": {
   "name": "python",
   "version": "3.9.12"
  },
  "orig_nbformat": 4,
  "vscode": {
   "interpreter": {
    "hash": "8460d4379f2db7ca1790c309fa08bdb08e0415783bba4b95e23aac2b72fbbcd2"
   }
  }
 },
 "nbformat": 4,
 "nbformat_minor": 2
}
